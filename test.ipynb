{
 "cells": [
  {
   "cell_type": "code",
   "execution_count": 2,
   "metadata": {},
   "outputs": [
    {
     "name": "stderr",
     "output_type": "stream",
     "text": [
      "usage: ipykernel_launcher.py [-h]\n",
      "                             {tensorflow.compat.v1,tensorflow,pytorch,jax,paddle}\n",
      "ipykernel_launcher.py: error: the following arguments are required: backend\n"
     ]
    },
    {
     "ename": "SystemExit",
     "evalue": "2",
     "output_type": "error",
     "traceback": [
      "An exception has occurred, use %tb to see the full traceback.\n",
      "\u001b[0;31mSystemExit\u001b[0m\u001b[0;31m:\u001b[0m 2\n"
     ]
    }
   ],
   "source": [
    "import argparse\n",
    "import json\n",
    "import os\n",
    "\n",
    "\n",
    "parser = argparse.ArgumentParser()\n",
    "parser.add_argument(\n",
    "    \"backend\",\n",
    "    nargs=1,\n",
    "    type=str,\n",
    "    choices=[\"tensorflow.compat.v1\", \"tensorflow\", \"pytorch\", \"jax\", \"paddle\"],\n",
    "    help=\"Set default backend\",\n",
    ")\n",
    "args = parser.parse_args()\n",
    "print(args)\n",
    "print(args.backend[0])"
   ]
  }
 ],
 "metadata": {
  "kernelspec": {
   "display_name": "Python 3.8.5 ('torch')",
   "language": "python",
   "name": "python3"
  },
  "language_info": {
   "codemirror_mode": {
    "name": "ipython",
    "version": 3
   },
   "file_extension": ".py",
   "mimetype": "text/x-python",
   "name": "python",
   "nbconvert_exporter": "python",
   "pygments_lexer": "ipython3",
   "version": "3.8.5"
  },
  "orig_nbformat": 4,
  "vscode": {
   "interpreter": {
    "hash": "94819360ddedf92a5f5d8a546eb1c0d745201e35d6b546e98b4f0adaa264872a"
   }
  }
 },
 "nbformat": 4,
 "nbformat_minor": 2
}
